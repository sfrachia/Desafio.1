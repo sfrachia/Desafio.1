{
 "cells": [
  {
   "cell_type": "markdown",
   "metadata": {},
   "source": [
    "# Desafío 1"
   ]
  },
  {
   "cell_type": "markdown",
   "metadata": {},
   "source": [
    "<a id=\"section_toc\"></a> \n",
    "Leemos los datos."
   ]
  },
  {
   "cell_type": "code",
   "execution_count": 1,
   "metadata": {},
   "outputs": [],
   "source": [
    "import pandas as pd\n",
    "import numpy as np\n",
    "import seaborn as sns\n",
    "import matplotlib as mpl\n",
    "import matplotlib.pyplot as plt\n",
    "%matplotlib inline\n",
    "\n",
    "data_location = \"properati.csv\"\n",
    "properati = pd.read_csv(data_location)"
   ]
  },
  {
   "cell_type": "markdown",
   "metadata": {},
   "source": [
    "<a id=\"section_toc\"></a> \n",
    "\n",
    "Tamaño del DataFrame."
   ]
  },
  {
   "cell_type": "code",
   "execution_count": 2,
   "metadata": {},
   "outputs": [
    {
     "name": "stdout",
     "output_type": "stream",
     "text": [
      "Cantidad de filas:  121220\n",
      "Cantidad de columnas:  26\n"
     ]
    }
   ],
   "source": [
    "print(\"Cantidad de filas: \", str(properati.shape[0]))\n",
    "print(\"Cantidad de columnas: \", str(properati.shape[1]))"
   ]
  },
  {
   "cell_type": "markdown",
   "metadata": {},
   "source": [
    "<a id=\"section_toc\"></a> \n",
    "\n",
    "Nombres de las columnas y tipo de datos."
   ]
  },
  {
   "cell_type": "code",
   "execution_count": 3,
   "metadata": {},
   "outputs": [
    {
     "data": {
      "text/plain": [
       "Unnamed: 0                      int64\n",
       "operation                      object\n",
       "property_type                  object\n",
       "place_name                     object\n",
       "place_with_parent_names        object\n",
       "country_name                   object\n",
       "state_name                     object\n",
       "geonames_id                   float64\n",
       "lat-lon                        object\n",
       "lat                           float64\n",
       "lon                           float64\n",
       "price                         float64\n",
       "currency                       object\n",
       "price_aprox_local_currency    float64\n",
       "price_aprox_usd               float64\n",
       "surface_total_in_m2           float64\n",
       "surface_covered_in_m2         float64\n",
       "price_usd_per_m2              float64\n",
       "price_per_m2                  float64\n",
       "floor                         float64\n",
       "rooms                         float64\n",
       "expenses                      float64\n",
       "properati_url                  object\n",
       "description                    object\n",
       "title                          object\n",
       "image_thumbnail                object\n",
       "dtype: object"
      ]
     },
     "execution_count": 3,
     "metadata": {},
     "output_type": "execute_result"
    }
   ],
   "source": [
    "properati.dtypes"
   ]
  },
  {
   "cell_type": "markdown",
   "metadata": {},
   "source": [
    "<a id=\"section_toc\"></a> \n",
    "\n",
    "Veamos los primeros 5 registros."
   ]
  },
  {
   "cell_type": "code",
   "execution_count": 4,
   "metadata": {},
   "outputs": [
    {
     "data": {
      "text/html": [
       "<div>\n",
       "<style scoped>\n",
       "    .dataframe tbody tr th:only-of-type {\n",
       "        vertical-align: middle;\n",
       "    }\n",
       "\n",
       "    .dataframe tbody tr th {\n",
       "        vertical-align: top;\n",
       "    }\n",
       "\n",
       "    .dataframe thead th {\n",
       "        text-align: right;\n",
       "    }\n",
       "</style>\n",
       "<table border=\"1\" class=\"dataframe\">\n",
       "  <thead>\n",
       "    <tr style=\"text-align: right;\">\n",
       "      <th></th>\n",
       "      <th>Unnamed: 0</th>\n",
       "      <th>operation</th>\n",
       "      <th>property_type</th>\n",
       "      <th>place_name</th>\n",
       "      <th>place_with_parent_names</th>\n",
       "      <th>country_name</th>\n",
       "      <th>state_name</th>\n",
       "      <th>geonames_id</th>\n",
       "      <th>lat-lon</th>\n",
       "      <th>lat</th>\n",
       "      <th>...</th>\n",
       "      <th>surface_covered_in_m2</th>\n",
       "      <th>price_usd_per_m2</th>\n",
       "      <th>price_per_m2</th>\n",
       "      <th>floor</th>\n",
       "      <th>rooms</th>\n",
       "      <th>expenses</th>\n",
       "      <th>properati_url</th>\n",
       "      <th>description</th>\n",
       "      <th>title</th>\n",
       "      <th>image_thumbnail</th>\n",
       "    </tr>\n",
       "  </thead>\n",
       "  <tbody>\n",
       "    <tr>\n",
       "      <th>0</th>\n",
       "      <td>0</td>\n",
       "      <td>sell</td>\n",
       "      <td>PH</td>\n",
       "      <td>Mataderos</td>\n",
       "      <td>|Argentina|Capital Federal|Mataderos|</td>\n",
       "      <td>Argentina</td>\n",
       "      <td>Capital Federal</td>\n",
       "      <td>3430787.0</td>\n",
       "      <td>-34.6618237,-58.5088387</td>\n",
       "      <td>-34.661824</td>\n",
       "      <td>...</td>\n",
       "      <td>40.0</td>\n",
       "      <td>1127.272727</td>\n",
       "      <td>1550.000000</td>\n",
       "      <td>NaN</td>\n",
       "      <td>NaN</td>\n",
       "      <td>NaN</td>\n",
       "      <td>http://www.properati.com.ar/15bo8_venta_ph_mat...</td>\n",
       "      <td>2 AMBIENTES TIPO CASA PLANTA BAJA POR PASILLO,...</td>\n",
       "      <td>2 AMB TIPO CASA SIN EXPENSAS EN PB</td>\n",
       "      <td>https://thumbs4.properati.com/8/BluUYiHJLhgIIK...</td>\n",
       "    </tr>\n",
       "    <tr>\n",
       "      <th>1</th>\n",
       "      <td>1</td>\n",
       "      <td>sell</td>\n",
       "      <td>apartment</td>\n",
       "      <td>La Plata</td>\n",
       "      <td>|Argentina|Bs.As. G.B.A. Zona Sur|La Plata|</td>\n",
       "      <td>Argentina</td>\n",
       "      <td>Bs.As. G.B.A. Zona Sur</td>\n",
       "      <td>3432039.0</td>\n",
       "      <td>-34.9038831,-57.9643295</td>\n",
       "      <td>-34.903883</td>\n",
       "      <td>...</td>\n",
       "      <td>NaN</td>\n",
       "      <td>NaN</td>\n",
       "      <td>NaN</td>\n",
       "      <td>NaN</td>\n",
       "      <td>NaN</td>\n",
       "      <td>NaN</td>\n",
       "      <td>http://www.properati.com.ar/15bob_venta_depart...</td>\n",
       "      <td>Venta de departamento en décimo piso al frente...</td>\n",
       "      <td>VENTA Depto 2 dorm. a estrenar 7 e/ 36 y 37   ...</td>\n",
       "      <td>https://thumbs4.properati.com/7/ikpVBu2ztHA7jv...</td>\n",
       "    </tr>\n",
       "    <tr>\n",
       "      <th>2</th>\n",
       "      <td>2</td>\n",
       "      <td>sell</td>\n",
       "      <td>apartment</td>\n",
       "      <td>Mataderos</td>\n",
       "      <td>|Argentina|Capital Federal|Mataderos|</td>\n",
       "      <td>Argentina</td>\n",
       "      <td>Capital Federal</td>\n",
       "      <td>3430787.0</td>\n",
       "      <td>-34.6522615,-58.5229825</td>\n",
       "      <td>-34.652262</td>\n",
       "      <td>...</td>\n",
       "      <td>55.0</td>\n",
       "      <td>1309.090909</td>\n",
       "      <td>1309.090909</td>\n",
       "      <td>NaN</td>\n",
       "      <td>NaN</td>\n",
       "      <td>NaN</td>\n",
       "      <td>http://www.properati.com.ar/15bod_venta_depart...</td>\n",
       "      <td>2 AMBIENTES 3ER PISO LATERAL LIVING COMEDOR AM...</td>\n",
       "      <td>2 AMB 3ER PISO CON ASCENSOR APTO CREDITO</td>\n",
       "      <td>https://thumbs4.properati.com/5/SXKr34F_IwG3W_...</td>\n",
       "    </tr>\n",
       "    <tr>\n",
       "      <th>3</th>\n",
       "      <td>3</td>\n",
       "      <td>sell</td>\n",
       "      <td>PH</td>\n",
       "      <td>Liniers</td>\n",
       "      <td>|Argentina|Capital Federal|Liniers|</td>\n",
       "      <td>Argentina</td>\n",
       "      <td>Capital Federal</td>\n",
       "      <td>3431333.0</td>\n",
       "      <td>-34.6477969,-58.5164244</td>\n",
       "      <td>-34.647797</td>\n",
       "      <td>...</td>\n",
       "      <td>NaN</td>\n",
       "      <td>NaN</td>\n",
       "      <td>NaN</td>\n",
       "      <td>NaN</td>\n",
       "      <td>NaN</td>\n",
       "      <td>NaN</td>\n",
       "      <td>http://www.properati.com.ar/15boh_venta_ph_lin...</td>\n",
       "      <td>PH 3 ambientes con patio. Hay 3 deptos en lote...</td>\n",
       "      <td>PH 3 amb. cfte. reciclado</td>\n",
       "      <td>https://thumbs4.properati.com/3/DgIfX-85Mog5SP...</td>\n",
       "    </tr>\n",
       "    <tr>\n",
       "      <th>4</th>\n",
       "      <td>4</td>\n",
       "      <td>sell</td>\n",
       "      <td>apartment</td>\n",
       "      <td>Centro</td>\n",
       "      <td>|Argentina|Buenos Aires Costa Atlántica|Mar de...</td>\n",
       "      <td>Argentina</td>\n",
       "      <td>Buenos Aires Costa Atlántica</td>\n",
       "      <td>3435548.0</td>\n",
       "      <td>-38.0026256,-57.5494468</td>\n",
       "      <td>-38.002626</td>\n",
       "      <td>...</td>\n",
       "      <td>35.0</td>\n",
       "      <td>1828.571429</td>\n",
       "      <td>1828.571429</td>\n",
       "      <td>NaN</td>\n",
       "      <td>NaN</td>\n",
       "      <td>NaN</td>\n",
       "      <td>http://www.properati.com.ar/15bok_venta_depart...</td>\n",
       "      <td>DEPARTAMENTO CON FANTÁSTICA ILUMINACIÓN NATURA...</td>\n",
       "      <td>DEPTO 2 AMB AL CONTRAFRENTE ZONA CENTRO/PLAZA ...</td>\n",
       "      <td>https://thumbs4.properati.com/5/xrRqlNcSI_vs-f...</td>\n",
       "    </tr>\n",
       "  </tbody>\n",
       "</table>\n",
       "<p>5 rows × 26 columns</p>\n",
       "</div>"
      ],
      "text/plain": [
       "   Unnamed: 0 operation property_type place_name  \\\n",
       "0           0      sell            PH  Mataderos   \n",
       "1           1      sell     apartment   La Plata   \n",
       "2           2      sell     apartment  Mataderos   \n",
       "3           3      sell            PH    Liniers   \n",
       "4           4      sell     apartment     Centro   \n",
       "\n",
       "                             place_with_parent_names country_name  \\\n",
       "0              |Argentina|Capital Federal|Mataderos|    Argentina   \n",
       "1        |Argentina|Bs.As. G.B.A. Zona Sur|La Plata|    Argentina   \n",
       "2              |Argentina|Capital Federal|Mataderos|    Argentina   \n",
       "3                |Argentina|Capital Federal|Liniers|    Argentina   \n",
       "4  |Argentina|Buenos Aires Costa Atlántica|Mar de...    Argentina   \n",
       "\n",
       "                     state_name  geonames_id                  lat-lon  \\\n",
       "0               Capital Federal    3430787.0  -34.6618237,-58.5088387   \n",
       "1        Bs.As. G.B.A. Zona Sur    3432039.0  -34.9038831,-57.9643295   \n",
       "2               Capital Federal    3430787.0  -34.6522615,-58.5229825   \n",
       "3               Capital Federal    3431333.0  -34.6477969,-58.5164244   \n",
       "4  Buenos Aires Costa Atlántica    3435548.0  -38.0026256,-57.5494468   \n",
       "\n",
       "         lat  ...  surface_covered_in_m2  price_usd_per_m2 price_per_m2  \\\n",
       "0 -34.661824  ...                   40.0       1127.272727  1550.000000   \n",
       "1 -34.903883  ...                    NaN               NaN          NaN   \n",
       "2 -34.652262  ...                   55.0       1309.090909  1309.090909   \n",
       "3 -34.647797  ...                    NaN               NaN          NaN   \n",
       "4 -38.002626  ...                   35.0       1828.571429  1828.571429   \n",
       "\n",
       "   floor  rooms  expenses                                      properati_url  \\\n",
       "0    NaN    NaN       NaN  http://www.properati.com.ar/15bo8_venta_ph_mat...   \n",
       "1    NaN    NaN       NaN  http://www.properati.com.ar/15bob_venta_depart...   \n",
       "2    NaN    NaN       NaN  http://www.properati.com.ar/15bod_venta_depart...   \n",
       "3    NaN    NaN       NaN  http://www.properati.com.ar/15boh_venta_ph_lin...   \n",
       "4    NaN    NaN       NaN  http://www.properati.com.ar/15bok_venta_depart...   \n",
       "\n",
       "                                         description  \\\n",
       "0  2 AMBIENTES TIPO CASA PLANTA BAJA POR PASILLO,...   \n",
       "1  Venta de departamento en décimo piso al frente...   \n",
       "2  2 AMBIENTES 3ER PISO LATERAL LIVING COMEDOR AM...   \n",
       "3  PH 3 ambientes con patio. Hay 3 deptos en lote...   \n",
       "4  DEPARTAMENTO CON FANTÁSTICA ILUMINACIÓN NATURA...   \n",
       "\n",
       "                                               title  \\\n",
       "0                 2 AMB TIPO CASA SIN EXPENSAS EN PB   \n",
       "1  VENTA Depto 2 dorm. a estrenar 7 e/ 36 y 37   ...   \n",
       "2           2 AMB 3ER PISO CON ASCENSOR APTO CREDITO   \n",
       "3                       PH 3 amb. cfte. reciclado      \n",
       "4  DEPTO 2 AMB AL CONTRAFRENTE ZONA CENTRO/PLAZA ...   \n",
       "\n",
       "                                     image_thumbnail  \n",
       "0  https://thumbs4.properati.com/8/BluUYiHJLhgIIK...  \n",
       "1  https://thumbs4.properati.com/7/ikpVBu2ztHA7jv...  \n",
       "2  https://thumbs4.properati.com/5/SXKr34F_IwG3W_...  \n",
       "3  https://thumbs4.properati.com/3/DgIfX-85Mog5SP...  \n",
       "4  https://thumbs4.properati.com/5/xrRqlNcSI_vs-f...  \n",
       "\n",
       "[5 rows x 26 columns]"
      ]
     },
     "execution_count": 4,
     "metadata": {},
     "output_type": "execute_result"
    }
   ],
   "source": [
    "properati.head(5)"
   ]
  },
  {
   "cell_type": "markdown",
   "metadata": {},
   "source": [
    "<a id=\"section_toc\"></a> \n",
    "\n",
    "Información general sobre el marco de datos."
   ]
  },
  {
   "cell_type": "code",
   "execution_count": 5,
   "metadata": {},
   "outputs": [
    {
     "name": "stdout",
     "output_type": "stream",
     "text": [
      "<class 'pandas.core.frame.DataFrame'>\n",
      "RangeIndex: 121220 entries, 0 to 121219\n",
      "Data columns (total 26 columns):\n",
      " #   Column                      Non-Null Count   Dtype  \n",
      "---  ------                      --------------   -----  \n",
      " 0   Unnamed: 0                  121220 non-null  int64  \n",
      " 1   operation                   121220 non-null  object \n",
      " 2   property_type               121220 non-null  object \n",
      " 3   place_name                  121197 non-null  object \n",
      " 4   place_with_parent_names     121220 non-null  object \n",
      " 5   country_name                121220 non-null  object \n",
      " 6   state_name                  121220 non-null  object \n",
      " 7   geonames_id                 102503 non-null  float64\n",
      " 8   lat-lon                     69670 non-null   object \n",
      " 9   lat                         69670 non-null   float64\n",
      " 10  lon                         69670 non-null   float64\n",
      " 11  price                       100810 non-null  float64\n",
      " 12  currency                    100809 non-null  object \n",
      " 13  price_aprox_local_currency  100810 non-null  float64\n",
      " 14  price_aprox_usd             100810 non-null  float64\n",
      " 15  surface_total_in_m2         81892 non-null   float64\n",
      " 16  surface_covered_in_m2       101313 non-null  float64\n",
      " 17  price_usd_per_m2            68617 non-null   float64\n",
      " 18  price_per_m2                87658 non-null   float64\n",
      " 19  floor                       7899 non-null    float64\n",
      " 20  rooms                       47390 non-null   float64\n",
      " 21  expenses                    14262 non-null   float64\n",
      " 22  properati_url               121220 non-null  object \n",
      " 23  description                 121218 non-null  object \n",
      " 24  title                       121220 non-null  object \n",
      " 25  image_thumbnail             118108 non-null  object \n",
      "dtypes: float64(13), int64(1), object(12)\n",
      "memory usage: 24.0+ MB\n"
     ]
    }
   ],
   "source": [
    "properati.info()"
   ]
  },
  {
   "cell_type": "markdown",
   "metadata": {},
   "source": [
    "<a id=\"section_toc\"></a> \n",
    "\n",
    "object, int64, float64, son los tipos de datos del DataFrame. Vemos que 12 columnas son de tipo objeto y 14 son numéricas. Se observa, también, que hay valores faltantes en 16 de ellas. \n",
    "\n",
    "Porcentaje de valores faltantes para cada columna."
   ]
  },
  {
   "cell_type": "code",
   "execution_count": 6,
   "metadata": {},
   "outputs": [
    {
     "data": {
      "text/plain": [
       "Unnamed: 0                    0.0000\n",
       "operation                     0.0000\n",
       "property_type                 0.0000\n",
       "place_name                    0.0002\n",
       "place_with_parent_names       0.0000\n",
       "country_name                  0.0000\n",
       "state_name                    0.0000\n",
       "geonames_id                   0.1544\n",
       "lat-lon                       0.4253\n",
       "lat                           0.4253\n",
       "lon                           0.4253\n",
       "price                         0.1684\n",
       "currency                      0.1684\n",
       "price_aprox_local_currency    0.1684\n",
       "price_aprox_usd               0.1684\n",
       "surface_total_in_m2           0.3244\n",
       "surface_covered_in_m2         0.1642\n",
       "price_usd_per_m2              0.4339\n",
       "price_per_m2                  0.2769\n",
       "floor                         0.9348\n",
       "rooms                         0.6091\n",
       "expenses                      0.8823\n",
       "properati_url                 0.0000\n",
       "description                   0.0000\n",
       "title                         0.0000\n",
       "image_thumbnail               0.0257\n",
       "dtype: float64"
      ]
     },
     "execution_count": 6,
     "metadata": {},
     "output_type": "execute_result"
    }
   ],
   "source": [
    "round(properati.isnull().sum() / properati.shape[0],4)"
   ]
  },
  {
   "cell_type": "markdown",
   "metadata": {},
   "source": [
    "<a id=\"section_toc\"></a> \n",
    "\n",
    "Características estadísticas básicas de cada columna."
   ]
  },
  {
   "cell_type": "code",
   "execution_count": 7,
   "metadata": {},
   "outputs": [
    {
     "data": {
      "text/html": [
       "<div>\n",
       "<style scoped>\n",
       "    .dataframe tbody tr th:only-of-type {\n",
       "        vertical-align: middle;\n",
       "    }\n",
       "\n",
       "    .dataframe tbody tr th {\n",
       "        vertical-align: top;\n",
       "    }\n",
       "\n",
       "    .dataframe thead th {\n",
       "        text-align: right;\n",
       "    }\n",
       "</style>\n",
       "<table border=\"1\" class=\"dataframe\">\n",
       "  <thead>\n",
       "    <tr style=\"text-align: right;\">\n",
       "      <th></th>\n",
       "      <th>Unnamed: 0</th>\n",
       "      <th>geonames_id</th>\n",
       "      <th>lat</th>\n",
       "      <th>lon</th>\n",
       "      <th>price</th>\n",
       "      <th>price_aprox_local_currency</th>\n",
       "      <th>price_aprox_usd</th>\n",
       "      <th>surface_total_in_m2</th>\n",
       "      <th>surface_covered_in_m2</th>\n",
       "      <th>price_usd_per_m2</th>\n",
       "      <th>price_per_m2</th>\n",
       "      <th>floor</th>\n",
       "      <th>rooms</th>\n",
       "      <th>expenses</th>\n",
       "    </tr>\n",
       "  </thead>\n",
       "  <tbody>\n",
       "    <tr>\n",
       "      <th>count</th>\n",
       "      <td>121220.000000</td>\n",
       "      <td>1.025030e+05</td>\n",
       "      <td>69670.000000</td>\n",
       "      <td>69670.000000</td>\n",
       "      <td>1.008100e+05</td>\n",
       "      <td>1.008100e+05</td>\n",
       "      <td>1.008100e+05</td>\n",
       "      <td>81892.000000</td>\n",
       "      <td>101313.000000</td>\n",
       "      <td>68617.000000</td>\n",
       "      <td>8.765800e+04</td>\n",
       "      <td>7899.000000</td>\n",
       "      <td>47390.000000</td>\n",
       "      <td>1.426200e+04</td>\n",
       "    </tr>\n",
       "    <tr>\n",
       "      <th>mean</th>\n",
       "      <td>60609.500000</td>\n",
       "      <td>3.574442e+06</td>\n",
       "      <td>-34.626210</td>\n",
       "      <td>-59.266290</td>\n",
       "      <td>4.685259e+05</td>\n",
       "      <td>4.229397e+06</td>\n",
       "      <td>2.397006e+05</td>\n",
       "      <td>233.795328</td>\n",
       "      <td>133.050181</td>\n",
       "      <td>2160.086916</td>\n",
       "      <td>6.912216e+03</td>\n",
       "      <td>17.452336</td>\n",
       "      <td>3.080840</td>\n",
       "      <td>5.009234e+03</td>\n",
       "    </tr>\n",
       "    <tr>\n",
       "      <th>std</th>\n",
       "      <td>34993.344153</td>\n",
       "      <td>3.541306e+05</td>\n",
       "      <td>1.980936</td>\n",
       "      <td>2.299922</td>\n",
       "      <td>2.260101e+06</td>\n",
       "      <td>6.904714e+06</td>\n",
       "      <td>3.913239e+05</td>\n",
       "      <td>1782.222147</td>\n",
       "      <td>724.351479</td>\n",
       "      <td>2759.288621</td>\n",
       "      <td>2.837864e+04</td>\n",
       "      <td>120.243621</td>\n",
       "      <td>1.860773</td>\n",
       "      <td>1.204403e+05</td>\n",
       "    </tr>\n",
       "    <tr>\n",
       "      <th>min</th>\n",
       "      <td>0.000000</td>\n",
       "      <td>3.427208e+06</td>\n",
       "      <td>-54.823985</td>\n",
       "      <td>-75.678931</td>\n",
       "      <td>0.000000e+00</td>\n",
       "      <td>0.000000e+00</td>\n",
       "      <td>0.000000e+00</td>\n",
       "      <td>0.000000</td>\n",
       "      <td>0.000000</td>\n",
       "      <td>0.600000</td>\n",
       "      <td>1.510204e+00</td>\n",
       "      <td>1.000000</td>\n",
       "      <td>1.000000</td>\n",
       "      <td>1.000000e+00</td>\n",
       "    </tr>\n",
       "    <tr>\n",
       "      <th>25%</th>\n",
       "      <td>30304.750000</td>\n",
       "      <td>3.430234e+06</td>\n",
       "      <td>-34.669065</td>\n",
       "      <td>-58.727040</td>\n",
       "      <td>1.100000e+05</td>\n",
       "      <td>1.583309e+06</td>\n",
       "      <td>8.973388e+04</td>\n",
       "      <td>50.000000</td>\n",
       "      <td>45.000000</td>\n",
       "      <td>1218.181818</td>\n",
       "      <td>1.550000e+03</td>\n",
       "      <td>1.000000</td>\n",
       "      <td>2.000000</td>\n",
       "      <td>1.000000e+03</td>\n",
       "    </tr>\n",
       "    <tr>\n",
       "      <th>50%</th>\n",
       "      <td>60609.500000</td>\n",
       "      <td>3.433910e+06</td>\n",
       "      <td>-34.597985</td>\n",
       "      <td>-58.480128</td>\n",
       "      <td>1.850000e+05</td>\n",
       "      <td>2.558452e+06</td>\n",
       "      <td>1.450000e+05</td>\n",
       "      <td>84.000000</td>\n",
       "      <td>75.000000</td>\n",
       "      <td>1800.000000</td>\n",
       "      <td>2.213115e+03</td>\n",
       "      <td>3.000000</td>\n",
       "      <td>3.000000</td>\n",
       "      <td>2.000000e+03</td>\n",
       "    </tr>\n",
       "    <tr>\n",
       "      <th>75%</th>\n",
       "      <td>90914.250000</td>\n",
       "      <td>3.836668e+06</td>\n",
       "      <td>-34.441299</td>\n",
       "      <td>-58.395908</td>\n",
       "      <td>4.200000e+05</td>\n",
       "      <td>4.675792e+06</td>\n",
       "      <td>2.650000e+05</td>\n",
       "      <td>200.000000</td>\n",
       "      <td>150.000000</td>\n",
       "      <td>2486.411765</td>\n",
       "      <td>3.355549e+03</td>\n",
       "      <td>6.000000</td>\n",
       "      <td>4.000000</td>\n",
       "      <td>4.000000e+03</td>\n",
       "    </tr>\n",
       "    <tr>\n",
       "      <th>max</th>\n",
       "      <td>121219.000000</td>\n",
       "      <td>6.948895e+06</td>\n",
       "      <td>4.545843</td>\n",
       "      <td>-53.733330</td>\n",
       "      <td>6.500000e+08</td>\n",
       "      <td>8.212711e+08</td>\n",
       "      <td>4.654544e+07</td>\n",
       "      <td>200000.000000</td>\n",
       "      <td>187000.000000</td>\n",
       "      <td>206333.333333</td>\n",
       "      <td>4.000000e+06</td>\n",
       "      <td>3150.000000</td>\n",
       "      <td>32.000000</td>\n",
       "      <td>1.000150e+07</td>\n",
       "    </tr>\n",
       "  </tbody>\n",
       "</table>\n",
       "</div>"
      ],
      "text/plain": [
       "          Unnamed: 0   geonames_id           lat           lon         price  \\\n",
       "count  121220.000000  1.025030e+05  69670.000000  69670.000000  1.008100e+05   \n",
       "mean    60609.500000  3.574442e+06    -34.626210    -59.266290  4.685259e+05   \n",
       "std     34993.344153  3.541306e+05      1.980936      2.299922  2.260101e+06   \n",
       "min         0.000000  3.427208e+06    -54.823985    -75.678931  0.000000e+00   \n",
       "25%     30304.750000  3.430234e+06    -34.669065    -58.727040  1.100000e+05   \n",
       "50%     60609.500000  3.433910e+06    -34.597985    -58.480128  1.850000e+05   \n",
       "75%     90914.250000  3.836668e+06    -34.441299    -58.395908  4.200000e+05   \n",
       "max    121219.000000  6.948895e+06      4.545843    -53.733330  6.500000e+08   \n",
       "\n",
       "       price_aprox_local_currency  price_aprox_usd  surface_total_in_m2  \\\n",
       "count                1.008100e+05     1.008100e+05         81892.000000   \n",
       "mean                 4.229397e+06     2.397006e+05           233.795328   \n",
       "std                  6.904714e+06     3.913239e+05          1782.222147   \n",
       "min                  0.000000e+00     0.000000e+00             0.000000   \n",
       "25%                  1.583309e+06     8.973388e+04            50.000000   \n",
       "50%                  2.558452e+06     1.450000e+05            84.000000   \n",
       "75%                  4.675792e+06     2.650000e+05           200.000000   \n",
       "max                  8.212711e+08     4.654544e+07        200000.000000   \n",
       "\n",
       "       surface_covered_in_m2  price_usd_per_m2  price_per_m2        floor  \\\n",
       "count          101313.000000      68617.000000  8.765800e+04  7899.000000   \n",
       "mean              133.050181       2160.086916  6.912216e+03    17.452336   \n",
       "std               724.351479       2759.288621  2.837864e+04   120.243621   \n",
       "min                 0.000000          0.600000  1.510204e+00     1.000000   \n",
       "25%                45.000000       1218.181818  1.550000e+03     1.000000   \n",
       "50%                75.000000       1800.000000  2.213115e+03     3.000000   \n",
       "75%               150.000000       2486.411765  3.355549e+03     6.000000   \n",
       "max            187000.000000     206333.333333  4.000000e+06  3150.000000   \n",
       "\n",
       "              rooms      expenses  \n",
       "count  47390.000000  1.426200e+04  \n",
       "mean       3.080840  5.009234e+03  \n",
       "std        1.860773  1.204403e+05  \n",
       "min        1.000000  1.000000e+00  \n",
       "25%        2.000000  1.000000e+03  \n",
       "50%        3.000000  2.000000e+03  \n",
       "75%        4.000000  4.000000e+03  \n",
       "max       32.000000  1.000150e+07  "
      ]
     },
     "execution_count": 7,
     "metadata": {},
     "output_type": "execute_result"
    }
   ],
   "source": [
    "properati.describe()                                                                                          "
   ]
  },
  {
   "cell_type": "code",
   "execution_count": 8,
   "metadata": {},
   "outputs": [
    {
     "data": {
      "text/html": [
       "<div>\n",
       "<style scoped>\n",
       "    .dataframe tbody tr th:only-of-type {\n",
       "        vertical-align: middle;\n",
       "    }\n",
       "\n",
       "    .dataframe tbody tr th {\n",
       "        vertical-align: top;\n",
       "    }\n",
       "\n",
       "    .dataframe thead th {\n",
       "        text-align: right;\n",
       "    }\n",
       "</style>\n",
       "<table border=\"1\" class=\"dataframe\">\n",
       "  <thead>\n",
       "    <tr style=\"text-align: right;\">\n",
       "      <th></th>\n",
       "      <th>operation</th>\n",
       "      <th>property_type</th>\n",
       "      <th>place_name</th>\n",
       "      <th>place_with_parent_names</th>\n",
       "      <th>country_name</th>\n",
       "      <th>state_name</th>\n",
       "      <th>lat-lon</th>\n",
       "      <th>currency</th>\n",
       "      <th>properati_url</th>\n",
       "      <th>description</th>\n",
       "      <th>title</th>\n",
       "      <th>image_thumbnail</th>\n",
       "    </tr>\n",
       "  </thead>\n",
       "  <tbody>\n",
       "    <tr>\n",
       "      <th>count</th>\n",
       "      <td>121220</td>\n",
       "      <td>121220</td>\n",
       "      <td>121197</td>\n",
       "      <td>121220</td>\n",
       "      <td>121220</td>\n",
       "      <td>121220</td>\n",
       "      <td>69670</td>\n",
       "      <td>100809</td>\n",
       "      <td>121220</td>\n",
       "      <td>121218</td>\n",
       "      <td>121220</td>\n",
       "      <td>118108</td>\n",
       "    </tr>\n",
       "    <tr>\n",
       "      <th>unique</th>\n",
       "      <td>1</td>\n",
       "      <td>4</td>\n",
       "      <td>1060</td>\n",
       "      <td>1164</td>\n",
       "      <td>1</td>\n",
       "      <td>28</td>\n",
       "      <td>47203</td>\n",
       "      <td>4</td>\n",
       "      <td>121220</td>\n",
       "      <td>104055</td>\n",
       "      <td>72705</td>\n",
       "      <td>114389</td>\n",
       "    </tr>\n",
       "    <tr>\n",
       "      <th>top</th>\n",
       "      <td>sell</td>\n",
       "      <td>apartment</td>\n",
       "      <td>Córdoba</td>\n",
       "      <td>|Argentina|Santa Fe|Rosario|</td>\n",
       "      <td>Argentina</td>\n",
       "      <td>Capital Federal</td>\n",
       "      <td>-34.4026444,-58.6684776</td>\n",
       "      <td>USD</td>\n",
       "      <td>http://www.properati.com.ar/1aed3_venta_depart...</td>\n",
       "      <td>AVISO LEGAL: Las descripciones arquitectónicas...</td>\n",
       "      <td>DEPARTAMENTO EN VENTA</td>\n",
       "      <td>https://thumbs4.properati.com/5/yyMiu8BHQI9KXC...</td>\n",
       "    </tr>\n",
       "    <tr>\n",
       "      <th>freq</th>\n",
       "      <td>121220</td>\n",
       "      <td>71065</td>\n",
       "      <td>9254</td>\n",
       "      <td>8504</td>\n",
       "      <td>121220</td>\n",
       "      <td>32316</td>\n",
       "      <td>312</td>\n",
       "      <td>87587</td>\n",
       "      <td>1</td>\n",
       "      <td>358</td>\n",
       "      <td>4855</td>\n",
       "      <td>255</td>\n",
       "    </tr>\n",
       "  </tbody>\n",
       "</table>\n",
       "</div>"
      ],
      "text/plain": [
       "       operation property_type place_name       place_with_parent_names  \\\n",
       "count     121220        121220     121197                        121220   \n",
       "unique         1             4       1060                          1164   \n",
       "top         sell     apartment    Córdoba  |Argentina|Santa Fe|Rosario|   \n",
       "freq      121220         71065       9254                          8504   \n",
       "\n",
       "       country_name       state_name                  lat-lon currency  \\\n",
       "count        121220           121220                    69670   100809   \n",
       "unique            1               28                    47203        4   \n",
       "top       Argentina  Capital Federal  -34.4026444,-58.6684776      USD   \n",
       "freq         121220            32316                      312    87587   \n",
       "\n",
       "                                            properati_url  \\\n",
       "count                                              121220   \n",
       "unique                                             121220   \n",
       "top     http://www.properati.com.ar/1aed3_venta_depart...   \n",
       "freq                                                    1   \n",
       "\n",
       "                                              description  \\\n",
       "count                                              121218   \n",
       "unique                                             104055   \n",
       "top     AVISO LEGAL: Las descripciones arquitectónicas...   \n",
       "freq                                                  358   \n",
       "\n",
       "                        title  \\\n",
       "count                  121220   \n",
       "unique                  72705   \n",
       "top     DEPARTAMENTO EN VENTA   \n",
       "freq                     4855   \n",
       "\n",
       "                                          image_thumbnail  \n",
       "count                                              118108  \n",
       "unique                                             114389  \n",
       "top     https://thumbs4.properati.com/5/yyMiu8BHQI9KXC...  \n",
       "freq                                                  255  "
      ]
     },
     "execution_count": 8,
     "metadata": {},
     "output_type": "execute_result"
    }
   ],
   "source": [
    "properati.describe(include = ['object'])"
   ]
  },
  {
   "cell_type": "markdown",
   "metadata": {},
   "source": [
    "<a id=\"section_toc\"></a> \n",
    "\n",
    "Eliminamos columnas que consideramos irrelevantes para nuestro análisis:\n",
    "\n",
    "   * 'country_name': solo toma valor = \"Argentina\".\n",
    "\n",
    "   * 'operation' : solo toma valor = \"sell\".\n",
    "\n",
    "   * 'place_with_parent_names': concatena \"'country_name'|'state_name'|'place_name'\".\n",
    "\n",
    "   * 'lat-lon': concatena \"'lat','lon'\". \n",
    "\n",
    "   * 'properati_url': irrelevante para el análisis.\n",
    "\n",
    "   * 'image_thumbnail': irrelevante para el análisis."
   ]
  },
  {
   "cell_type": "code",
   "execution_count": 9,
   "metadata": {},
   "outputs": [],
   "source": [
    "properati_reduced = properati.drop(['country_name','operation','place_with_parent_names','lat-lon','properati_url','image_thumbnail'], axis=1)"
   ]
  },
  {
   "cell_type": "markdown",
   "metadata": {},
   "source": [
    "<a id=\"section_toc\"></a> \n",
    "\n",
    "Controlamos."
   ]
  },
  {
   "cell_type": "code",
   "execution_count": 10,
   "metadata": {},
   "outputs": [
    {
     "name": "stdout",
     "output_type": "stream",
     "text": [
      "<class 'pandas.core.frame.DataFrame'>\n",
      "RangeIndex: 121220 entries, 0 to 121219\n",
      "Data columns (total 20 columns):\n",
      " #   Column                      Non-Null Count   Dtype  \n",
      "---  ------                      --------------   -----  \n",
      " 0   Unnamed: 0                  121220 non-null  int64  \n",
      " 1   property_type               121220 non-null  object \n",
      " 2   place_name                  121197 non-null  object \n",
      " 3   state_name                  121220 non-null  object \n",
      " 4   geonames_id                 102503 non-null  float64\n",
      " 5   lat                         69670 non-null   float64\n",
      " 6   lon                         69670 non-null   float64\n",
      " 7   price                       100810 non-null  float64\n",
      " 8   currency                    100809 non-null  object \n",
      " 9   price_aprox_local_currency  100810 non-null  float64\n",
      " 10  price_aprox_usd             100810 non-null  float64\n",
      " 11  surface_total_in_m2         81892 non-null   float64\n",
      " 12  surface_covered_in_m2       101313 non-null  float64\n",
      " 13  price_usd_per_m2            68617 non-null   float64\n",
      " 14  price_per_m2                87658 non-null   float64\n",
      " 15  floor                       7899 non-null    float64\n",
      " 16  rooms                       47390 non-null   float64\n",
      " 17  expenses                    14262 non-null   float64\n",
      " 18  description                 121218 non-null  object \n",
      " 19  title                       121220 non-null  object \n",
      "dtypes: float64(13), int64(1), object(6)\n",
      "memory usage: 18.5+ MB\n"
     ]
    }
   ],
   "source": [
    "properati_reduced.info()"
   ]
  },
  {
   "cell_type": "markdown",
   "metadata": {},
   "source": [
    "<a id=\"section_toc\"></a> \n",
    "\n",
    "Veamos como se distribuye la variable 'state_name'."
   ]
  },
  {
   "cell_type": "code",
   "execution_count": 11,
   "metadata": {},
   "outputs": [
    {
     "data": {
      "text/plain": [
       "Capital Federal                 32316\n",
       "Bs.As. G.B.A. Zona Norte        25560\n",
       "Bs.As. G.B.A. Zona Sur          13952\n",
       "Córdoba                         12069\n",
       "Santa Fe                        10172\n",
       "Buenos Aires Costa Atlántica    10006\n",
       "Bs.As. G.B.A. Zona Oeste         9322\n",
       "Buenos Aires Interior            2291\n",
       "Río Negro                         808\n",
       "Neuquén                           733\n",
       "Mendoza                           681\n",
       "Tucumán                           674\n",
       "Corrientes                        583\n",
       "Misiones                          464\n",
       "Entre Ríos                        369\n",
       "Salta                             278\n",
       "Chubut                            259\n",
       "San Luis                          252\n",
       "La Pampa                          157\n",
       "Formosa                            65\n",
       "Chaco                              57\n",
       "San Juan                           40\n",
       "Tierra Del Fuego                   31\n",
       "Catamarca                          27\n",
       "Jujuy                              26\n",
       "Santa Cruz                         20\n",
       "La Rioja                            4\n",
       "Santiago Del Estero                 4\n",
       "Name: state_name, dtype: int64"
      ]
     },
     "execution_count": 11,
     "metadata": {},
     "output_type": "execute_result"
    }
   ],
   "source": [
    "properati_reduced['state_name'].value_counts()"
   ]
  },
  {
   "cell_type": "markdown",
   "metadata": {},
   "source": [
    "<a id=\"section_toc\"></a> \n",
    "## **CAPITAL FEDERAL**\n",
    "\n",
    "Nuestro objetivo es analizar la Ciudad Autónoma de Buenos Aires, por lo que generamos un DataFrame con los datos que corresponden a la misma."
   ]
  },
  {
   "cell_type": "code",
   "execution_count": 12,
   "metadata": {},
   "outputs": [],
   "source": [
    "mask_caba = properati_reduced.state_name == \"Capital Federal\"\n",
    "properati_reduced_caba = properati_reduced.loc[mask_caba,:]"
   ]
  },
  {
   "cell_type": "markdown",
   "metadata": {},
   "source": [
    "<a id=\"section_toc\"></a> \n",
    "\n",
    "Veamos el tamaño del DataFrame."
   ]
  },
  {
   "cell_type": "code",
   "execution_count": 13,
   "metadata": {},
   "outputs": [
    {
     "name": "stdout",
     "output_type": "stream",
     "text": [
      "Cantidad de filas:  32316\n",
      "Cantidad de columnas:  20\n"
     ]
    }
   ],
   "source": [
    "print(\"Cantidad de filas: \", str(properati_reduced_caba.shape[0]))\n",
    "print(\"Cantidad de columnas: \", str(properati_reduced_caba.shape[1]))"
   ]
  },
  {
   "cell_type": "markdown",
   "metadata": {},
   "source": [
    "<a id=\"section_toc\"></a> \n",
    "\n",
    "\n",
    "Porcentaje de valores nulos por columna."
   ]
  },
  {
   "cell_type": "code",
   "execution_count": 14,
   "metadata": {},
   "outputs": [
    {
     "data": {
      "text/plain": [
       "Unnamed: 0                    0.00\n",
       "property_type                 0.00\n",
       "place_name                    0.00\n",
       "state_name                    0.00\n",
       "geonames_id                   0.04\n",
       "lat                           0.26\n",
       "lon                           0.26\n",
       "price                         0.10\n",
       "currency                      0.10\n",
       "price_aprox_local_currency    0.10\n",
       "price_aprox_usd               0.10\n",
       "surface_total_in_m2           0.18\n",
       "surface_covered_in_m2         0.07\n",
       "price_usd_per_m2              0.27\n",
       "price_per_m2                  0.15\n",
       "floor                         0.91\n",
       "rooms                         0.53\n",
       "expenses                      0.80\n",
       "description                   0.00\n",
       "title                         0.00\n",
       "dtype: float64"
      ]
     },
     "execution_count": 14,
     "metadata": {},
     "output_type": "execute_result"
    }
   ],
   "source": [
    "round(properati_reduced_caba.isnull().sum() / properati_reduced_caba.shape[0],2)"
   ]
  },
  {
   "cell_type": "markdown",
   "metadata": {},
   "source": [
    "<a id=\"section_toc\"></a> \n",
    "\n",
    "Veamos las características estadísticas básicas de cada columna."
   ]
  },
  {
   "cell_type": "code",
   "execution_count": 15,
   "metadata": {},
   "outputs": [
    {
     "data": {
      "text/html": [
       "<div>\n",
       "<style scoped>\n",
       "    .dataframe tbody tr th:only-of-type {\n",
       "        vertical-align: middle;\n",
       "    }\n",
       "\n",
       "    .dataframe tbody tr th {\n",
       "        vertical-align: top;\n",
       "    }\n",
       "\n",
       "    .dataframe thead th {\n",
       "        text-align: right;\n",
       "    }\n",
       "</style>\n",
       "<table border=\"1\" class=\"dataframe\">\n",
       "  <thead>\n",
       "    <tr style=\"text-align: right;\">\n",
       "      <th></th>\n",
       "      <th>Unnamed: 0</th>\n",
       "      <th>geonames_id</th>\n",
       "      <th>lat</th>\n",
       "      <th>lon</th>\n",
       "      <th>price</th>\n",
       "      <th>price_aprox_local_currency</th>\n",
       "      <th>price_aprox_usd</th>\n",
       "      <th>surface_total_in_m2</th>\n",
       "      <th>surface_covered_in_m2</th>\n",
       "      <th>price_usd_per_m2</th>\n",
       "      <th>price_per_m2</th>\n",
       "      <th>floor</th>\n",
       "      <th>rooms</th>\n",
       "      <th>expenses</th>\n",
       "    </tr>\n",
       "  </thead>\n",
       "  <tbody>\n",
       "    <tr>\n",
       "      <th>count</th>\n",
       "      <td>32316.0</td>\n",
       "      <td>31030.0</td>\n",
       "      <td>23770.0</td>\n",
       "      <td>23770.0</td>\n",
       "      <td>29018.0</td>\n",
       "      <td>29018.0</td>\n",
       "      <td>29018.0</td>\n",
       "      <td>26437.0</td>\n",
       "      <td>29977.0</td>\n",
       "      <td>23434.0</td>\n",
       "      <td>27324.0</td>\n",
       "      <td>3009.0</td>\n",
       "      <td>15325.0</td>\n",
       "      <td>6592.0</td>\n",
       "    </tr>\n",
       "    <tr>\n",
       "      <th>mean</th>\n",
       "      <td>61152.0</td>\n",
       "      <td>3528152.0</td>\n",
       "      <td>-35.0</td>\n",
       "      <td>-58.0</td>\n",
       "      <td>382952.0</td>\n",
       "      <td>4757013.0</td>\n",
       "      <td>269603.0</td>\n",
       "      <td>119.0</td>\n",
       "      <td>98.0</td>\n",
       "      <td>3117.0</td>\n",
       "      <td>6108.0</td>\n",
       "      <td>13.0</td>\n",
       "      <td>3.0</td>\n",
       "      <td>6357.0</td>\n",
       "    </tr>\n",
       "    <tr>\n",
       "      <th>std</th>\n",
       "      <td>34261.0</td>\n",
       "      <td>550474.0</td>\n",
       "      <td>0.0</td>\n",
       "      <td>0.0</td>\n",
       "      <td>1081570.0</td>\n",
       "      <td>8073753.0</td>\n",
       "      <td>457579.0</td>\n",
       "      <td>1248.0</td>\n",
       "      <td>1097.0</td>\n",
       "      <td>3681.0</td>\n",
       "      <td>23654.0</td>\n",
       "      <td>82.0</td>\n",
       "      <td>2.0</td>\n",
       "      <td>174189.0</td>\n",
       "    </tr>\n",
       "    <tr>\n",
       "      <th>min</th>\n",
       "      <td>0.0</td>\n",
       "      <td>3427366.0</td>\n",
       "      <td>-38.0</td>\n",
       "      <td>-64.0</td>\n",
       "      <td>5500.0</td>\n",
       "      <td>90051.0</td>\n",
       "      <td>5104.0</td>\n",
       "      <td>0.0</td>\n",
       "      <td>0.0</td>\n",
       "      <td>14.0</td>\n",
       "      <td>3.0</td>\n",
       "      <td>1.0</td>\n",
       "      <td>1.0</td>\n",
       "      <td>1.0</td>\n",
       "    </tr>\n",
       "    <tr>\n",
       "      <th>25%</th>\n",
       "      <td>31211.0</td>\n",
       "      <td>3429760.0</td>\n",
       "      <td>-35.0</td>\n",
       "      <td>-58.0</td>\n",
       "      <td>109000.0</td>\n",
       "      <td>1852672.0</td>\n",
       "      <td>105000.0</td>\n",
       "      <td>42.0</td>\n",
       "      <td>38.0</td>\n",
       "      <td>1966.0</td>\n",
       "      <td>2191.0</td>\n",
       "      <td>2.0</td>\n",
       "      <td>1.0</td>\n",
       "      <td>1200.0</td>\n",
       "    </tr>\n",
       "    <tr>\n",
       "      <th>50%</th>\n",
       "      <td>60876.0</td>\n",
       "      <td>3433775.0</td>\n",
       "      <td>-35.0</td>\n",
       "      <td>-58.0</td>\n",
       "      <td>165800.0</td>\n",
       "      <td>2774792.0</td>\n",
       "      <td>157261.0</td>\n",
       "      <td>62.0</td>\n",
       "      <td>55.0</td>\n",
       "      <td>2469.0</td>\n",
       "      <td>2777.0</td>\n",
       "      <td>4.0</td>\n",
       "      <td>3.0</td>\n",
       "      <td>2000.0</td>\n",
       "    </tr>\n",
       "    <tr>\n",
       "      <th>75%</th>\n",
       "      <td>87955.0</td>\n",
       "      <td>3436003.0</td>\n",
       "      <td>-35.0</td>\n",
       "      <td>-58.0</td>\n",
       "      <td>325000.0</td>\n",
       "      <td>5028682.0</td>\n",
       "      <td>285000.0</td>\n",
       "      <td>110.0</td>\n",
       "      <td>95.0</td>\n",
       "      <td>3077.0</td>\n",
       "      <td>3590.0</td>\n",
       "      <td>7.0</td>\n",
       "      <td>4.0</td>\n",
       "      <td>3800.0</td>\n",
       "    </tr>\n",
       "    <tr>\n",
       "      <th>max</th>\n",
       "      <td>121219.0</td>\n",
       "      <td>6693230.0</td>\n",
       "      <td>-35.0</td>\n",
       "      <td>-58.0</td>\n",
       "      <td>50000000.0</td>\n",
       "      <td>821271104.0</td>\n",
       "      <td>46545445.0</td>\n",
       "      <td>200000.0</td>\n",
       "      <td>187000.0</td>\n",
       "      <td>206333.0</td>\n",
       "      <td>2600000.0</td>\n",
       "      <td>2509.0</td>\n",
       "      <td>22.0</td>\n",
       "      <td>10001500.0</td>\n",
       "    </tr>\n",
       "  </tbody>\n",
       "</table>\n",
       "</div>"
      ],
      "text/plain": [
       "       Unnamed: 0  geonames_id      lat      lon       price  \\\n",
       "count     32316.0      31030.0  23770.0  23770.0     29018.0   \n",
       "mean      61152.0    3528152.0    -35.0    -58.0    382952.0   \n",
       "std       34261.0     550474.0      0.0      0.0   1081570.0   \n",
       "min           0.0    3427366.0    -38.0    -64.0      5500.0   \n",
       "25%       31211.0    3429760.0    -35.0    -58.0    109000.0   \n",
       "50%       60876.0    3433775.0    -35.0    -58.0    165800.0   \n",
       "75%       87955.0    3436003.0    -35.0    -58.0    325000.0   \n",
       "max      121219.0    6693230.0    -35.0    -58.0  50000000.0   \n",
       "\n",
       "       price_aprox_local_currency  price_aprox_usd  surface_total_in_m2  \\\n",
       "count                     29018.0          29018.0              26437.0   \n",
       "mean                    4757013.0         269603.0                119.0   \n",
       "std                     8073753.0         457579.0               1248.0   \n",
       "min                       90051.0           5104.0                  0.0   \n",
       "25%                     1852672.0         105000.0                 42.0   \n",
       "50%                     2774792.0         157261.0                 62.0   \n",
       "75%                     5028682.0         285000.0                110.0   \n",
       "max                   821271104.0       46545445.0             200000.0   \n",
       "\n",
       "       surface_covered_in_m2  price_usd_per_m2  price_per_m2   floor    rooms  \\\n",
       "count                29977.0           23434.0       27324.0  3009.0  15325.0   \n",
       "mean                    98.0            3117.0        6108.0    13.0      3.0   \n",
       "std                   1097.0            3681.0       23654.0    82.0      2.0   \n",
       "min                      0.0              14.0           3.0     1.0      1.0   \n",
       "25%                     38.0            1966.0        2191.0     2.0      1.0   \n",
       "50%                     55.0            2469.0        2777.0     4.0      3.0   \n",
       "75%                     95.0            3077.0        3590.0     7.0      4.0   \n",
       "max                 187000.0          206333.0     2600000.0  2509.0     22.0   \n",
       "\n",
       "         expenses  \n",
       "count      6592.0  \n",
       "mean       6357.0  \n",
       "std      174189.0  \n",
       "min           1.0  \n",
       "25%        1200.0  \n",
       "50%        2000.0  \n",
       "75%        3800.0  \n",
       "max    10001500.0  "
      ]
     },
     "execution_count": 15,
     "metadata": {},
     "output_type": "execute_result"
    }
   ],
   "source": [
    "round(properati_reduced_caba.describe(),0)"
   ]
  },
  {
   "cell_type": "code",
   "execution_count": 16,
   "metadata": {},
   "outputs": [
    {
     "data": {
      "text/html": [
       "<div>\n",
       "<style scoped>\n",
       "    .dataframe tbody tr th:only-of-type {\n",
       "        vertical-align: middle;\n",
       "    }\n",
       "\n",
       "    .dataframe tbody tr th {\n",
       "        vertical-align: top;\n",
       "    }\n",
       "\n",
       "    .dataframe thead th {\n",
       "        text-align: right;\n",
       "    }\n",
       "</style>\n",
       "<table border=\"1\" class=\"dataframe\">\n",
       "  <thead>\n",
       "    <tr style=\"text-align: right;\">\n",
       "      <th></th>\n",
       "      <th>property_type</th>\n",
       "      <th>place_name</th>\n",
       "      <th>state_name</th>\n",
       "      <th>currency</th>\n",
       "      <th>description</th>\n",
       "      <th>title</th>\n",
       "    </tr>\n",
       "  </thead>\n",
       "  <tbody>\n",
       "    <tr>\n",
       "      <th>count</th>\n",
       "      <td>32316</td>\n",
       "      <td>32316</td>\n",
       "      <td>32316</td>\n",
       "      <td>29018</td>\n",
       "      <td>32316</td>\n",
       "      <td>32316</td>\n",
       "    </tr>\n",
       "    <tr>\n",
       "      <th>unique</th>\n",
       "      <td>4</td>\n",
       "      <td>62</td>\n",
       "      <td>1</td>\n",
       "      <td>3</td>\n",
       "      <td>26094</td>\n",
       "      <td>18144</td>\n",
       "    </tr>\n",
       "    <tr>\n",
       "      <th>top</th>\n",
       "      <td>apartment</td>\n",
       "      <td>Belgrano</td>\n",
       "      <td>Capital Federal</td>\n",
       "      <td>USD</td>\n",
       "      <td>AVISO LEGAL: Las descripciones arquitectónicas...</td>\n",
       "      <td>DEPARTAMENTO EN VENTA</td>\n",
       "    </tr>\n",
       "    <tr>\n",
       "      <th>freq</th>\n",
       "      <td>27037</td>\n",
       "      <td>2992</td>\n",
       "      <td>32316</td>\n",
       "      <td>27826</td>\n",
       "      <td>358</td>\n",
       "      <td>2219</td>\n",
       "    </tr>\n",
       "  </tbody>\n",
       "</table>\n",
       "</div>"
      ],
      "text/plain": [
       "       property_type place_name       state_name currency  \\\n",
       "count          32316      32316            32316    29018   \n",
       "unique             4         62                1        3   \n",
       "top        apartment   Belgrano  Capital Federal      USD   \n",
       "freq           27037       2992            32316    27826   \n",
       "\n",
       "                                              description  \\\n",
       "count                                               32316   \n",
       "unique                                              26094   \n",
       "top     AVISO LEGAL: Las descripciones arquitectónicas...   \n",
       "freq                                                  358   \n",
       "\n",
       "                        title  \n",
       "count                   32316  \n",
       "unique                  18144  \n",
       "top     DEPARTAMENTO EN VENTA  \n",
       "freq                     2219  "
      ]
     },
     "execution_count": 16,
     "metadata": {},
     "output_type": "execute_result"
    }
   ],
   "source": [
    "properati_reduced_caba.describe(include=['object'])"
   ]
  },
  {
   "cell_type": "markdown",
   "metadata": {},
   "source": [
    "<a id=\"section_toc\"></a> \n",
    "\n",
    "Veamos como se distribuye la variable 'property_type'."
   ]
  },
  {
   "cell_type": "code",
   "execution_count": 17,
   "metadata": {},
   "outputs": [
    {
     "data": {
      "text/plain": [
       "apartment    27037\n",
       "house         2087\n",
       "PH            1828\n",
       "store         1364\n",
       "Name: property_type, dtype: int64"
      ]
     },
     "execution_count": 17,
     "metadata": {},
     "output_type": "execute_result"
    }
   ],
   "source": [
    "properati_reduced_caba['property_type'].value_counts()"
   ]
  },
  {
   "cell_type": "markdown",
   "metadata": {},
   "source": [
    "<a id=\"section_toc\"></a> \n",
    "\n",
    "Veamos como se distribuye la variable 'currency' que toma tres valores cuando se espera que tome solo dos (USD, ARS)."
   ]
  },
  {
   "cell_type": "code",
   "execution_count": 18,
   "metadata": {},
   "outputs": [
    {
     "data": {
      "text/plain": [
       "USD    27826\n",
       "ARS     1190\n",
       "PEN        2\n",
       "Name: currency, dtype: int64"
      ]
     },
     "execution_count": 18,
     "metadata": {},
     "output_type": "execute_result"
    }
   ],
   "source": [
    "properati_reduced_caba['currency'].value_counts()"
   ]
  },
  {
   "cell_type": "markdown",
   "metadata": {},
   "source": [
    "<a id=\"section_toc\"></a> \n",
    "\n",
    "Veamos los dos registros que toman valor=\"PEN\" en la columna'currency'."
   ]
  },
  {
   "cell_type": "code",
   "execution_count": 19,
   "metadata": {},
   "outputs": [
    {
     "data": {
      "text/html": [
       "<div>\n",
       "<style scoped>\n",
       "    .dataframe tbody tr th:only-of-type {\n",
       "        vertical-align: middle;\n",
       "    }\n",
       "\n",
       "    .dataframe tbody tr th {\n",
       "        vertical-align: top;\n",
       "    }\n",
       "\n",
       "    .dataframe thead th {\n",
       "        text-align: right;\n",
       "    }\n",
       "</style>\n",
       "<table border=\"1\" class=\"dataframe\">\n",
       "  <thead>\n",
       "    <tr style=\"text-align: right;\">\n",
       "      <th></th>\n",
       "      <th>Unnamed: 0</th>\n",
       "      <th>property_type</th>\n",
       "      <th>place_name</th>\n",
       "      <th>state_name</th>\n",
       "      <th>geonames_id</th>\n",
       "      <th>lat</th>\n",
       "      <th>lon</th>\n",
       "      <th>price</th>\n",
       "      <th>currency</th>\n",
       "      <th>price_aprox_local_currency</th>\n",
       "      <th>price_aprox_usd</th>\n",
       "      <th>surface_total_in_m2</th>\n",
       "      <th>surface_covered_in_m2</th>\n",
       "      <th>price_usd_per_m2</th>\n",
       "      <th>price_per_m2</th>\n",
       "      <th>floor</th>\n",
       "      <th>rooms</th>\n",
       "      <th>expenses</th>\n",
       "      <th>description</th>\n",
       "      <th>title</th>\n",
       "    </tr>\n",
       "  </thead>\n",
       "  <tbody>\n",
       "    <tr>\n",
       "      <th>50387</th>\n",
       "      <td>50387</td>\n",
       "      <td>apartment</td>\n",
       "      <td>Capital Federal</td>\n",
       "      <td>Capital Federal</td>\n",
       "      <td>3433955.0</td>\n",
       "      <td>NaN</td>\n",
       "      <td>NaN</td>\n",
       "      <td>380000.0</td>\n",
       "      <td>PEN</td>\n",
       "      <td>2066864.90</td>\n",
       "      <td>117139.33</td>\n",
       "      <td>NaN</td>\n",
       "      <td>NaN</td>\n",
       "      <td>NaN</td>\n",
       "      <td>NaN</td>\n",
       "      <td>NaN</td>\n",
       "      <td>NaN</td>\n",
       "      <td>NaN</td>\n",
       "      <td>Ref.: 55:PREVENTA ::: OPORTUNIDAD ::: Dúplex a...</td>\n",
       "      <td>DUPLEX A LA VENTA | Liniers 1200 | Tandil</td>\n",
       "    </tr>\n",
       "    <tr>\n",
       "      <th>50388</th>\n",
       "      <td>50388</td>\n",
       "      <td>apartment</td>\n",
       "      <td>Capital Federal</td>\n",
       "      <td>Capital Federal</td>\n",
       "      <td>3433955.0</td>\n",
       "      <td>NaN</td>\n",
       "      <td>NaN</td>\n",
       "      <td>950000.0</td>\n",
       "      <td>PEN</td>\n",
       "      <td>5167162.35</td>\n",
       "      <td>292848.33</td>\n",
       "      <td>NaN</td>\n",
       "      <td>NaN</td>\n",
       "      <td>NaN</td>\n",
       "      <td>NaN</td>\n",
       "      <td>NaN</td>\n",
       "      <td>NaN</td>\n",
       "      <td>NaN</td>\n",
       "      <td>Ref.: 56Duplex en venta de 1 dormitorio con ap...</td>\n",
       "      <td>DUPLEX A LA VENTA | Liniers 1200 | Tandil</td>\n",
       "    </tr>\n",
       "  </tbody>\n",
       "</table>\n",
       "</div>"
      ],
      "text/plain": [
       "       Unnamed: 0 property_type       place_name       state_name  \\\n",
       "50387       50387     apartment  Capital Federal  Capital Federal   \n",
       "50388       50388     apartment  Capital Federal  Capital Federal   \n",
       "\n",
       "       geonames_id  lat  lon     price currency  price_aprox_local_currency  \\\n",
       "50387    3433955.0  NaN  NaN  380000.0      PEN                  2066864.90   \n",
       "50388    3433955.0  NaN  NaN  950000.0      PEN                  5167162.35   \n",
       "\n",
       "       price_aprox_usd  surface_total_in_m2  surface_covered_in_m2  \\\n",
       "50387        117139.33                  NaN                    NaN   \n",
       "50388        292848.33                  NaN                    NaN   \n",
       "\n",
       "       price_usd_per_m2  price_per_m2  floor  rooms  expenses  \\\n",
       "50387               NaN           NaN    NaN    NaN       NaN   \n",
       "50388               NaN           NaN    NaN    NaN       NaN   \n",
       "\n",
       "                                             description  \\\n",
       "50387  Ref.: 55:PREVENTA ::: OPORTUNIDAD ::: Dúplex a...   \n",
       "50388  Ref.: 56Duplex en venta de 1 dormitorio con ap...   \n",
       "\n",
       "                                           title  \n",
       "50387  DUPLEX A LA VENTA | Liniers 1200 | Tandil  \n",
       "50388  DUPLEX A LA VENTA | Liniers 1200 | Tandil  "
      ]
     },
     "execution_count": 19,
     "metadata": {},
     "output_type": "execute_result"
    }
   ],
   "source": [
    "mask_currency = properati_reduced_caba['currency'] == \"PEN\"\n",
    "properati_reduced_caba.loc[mask_currency,:]"
   ]
  },
  {
   "cell_type": "markdown",
   "metadata": {},
   "source": [
    "<a id=\"section_toc\"></a> \n",
    "\n",
    "Si bien la variable \"price_per_m2\" tiene un 15% de valores nulos en tanto que \"price\" tiene 10%, dado que la variable \"surface_total_in_m2\" (necesaria para computar el precio por m2) tiene 18% de valores nulos; decimos considerar para nuestro análisis la variable \"price_per_m2\". \n",
    "\n",
    "Previo hay que homogeneizar la unidad de medida (de 'price_per_m2'), es decir, que esten expresados en la misma moneda ('currency'); quedarnos solo con los que estan expresados en USD, dado que son registros cargados en distinas fechas y atendiendo tanto a la inflación como a la devaluación. En el caso que el dato este en ARS podemos ver de obtener el dato de 'price_aprox_usd' o 'price_usd_per_m2'.\n",
    "\n",
    "De modo que eliminaremos de nuestro DataFrame las variables: 'price', 'price_aprox_local_currency'."
   ]
  },
  {
   "cell_type": "code",
   "execution_count": 20,
   "metadata": {},
   "outputs": [],
   "source": [
    "properati_reduced_caba=properati_reduced_caba.drop(['price', 'price_aprox_local_currency'], axis=1)"
   ]
  },
  {
   "cell_type": "markdown",
   "metadata": {},
   "source": [
    "<a id=\"section_toc\"></a> \n",
    "\n",
    "Controlamos."
   ]
  },
  {
   "cell_type": "code",
   "execution_count": 21,
   "metadata": {},
   "outputs": [
    {
     "name": "stdout",
     "output_type": "stream",
     "text": [
      "<class 'pandas.core.frame.DataFrame'>\n",
      "Int64Index: 32316 entries, 0 to 121219\n",
      "Data columns (total 18 columns):\n",
      " #   Column                 Non-Null Count  Dtype  \n",
      "---  ------                 --------------  -----  \n",
      " 0   Unnamed: 0             32316 non-null  int64  \n",
      " 1   property_type          32316 non-null  object \n",
      " 2   place_name             32316 non-null  object \n",
      " 3   state_name             32316 non-null  object \n",
      " 4   geonames_id            31030 non-null  float64\n",
      " 5   lat                    23770 non-null  float64\n",
      " 6   lon                    23770 non-null  float64\n",
      " 7   currency               29018 non-null  object \n",
      " 8   price_aprox_usd        29018 non-null  float64\n",
      " 9   surface_total_in_m2    26437 non-null  float64\n",
      " 10  surface_covered_in_m2  29977 non-null  float64\n",
      " 11  price_usd_per_m2       23434 non-null  float64\n",
      " 12  price_per_m2           27324 non-null  float64\n",
      " 13  floor                  3009 non-null   float64\n",
      " 14  rooms                  15325 non-null  float64\n",
      " 15  expenses               6592 non-null   float64\n",
      " 16  description            32316 non-null  object \n",
      " 17  title                  32316 non-null  object \n",
      "dtypes: float64(11), int64(1), object(6)\n",
      "memory usage: 4.7+ MB\n"
     ]
    }
   ],
   "source": [
    "properati_reduced_caba.info()"
   ]
  },
  {
   "cell_type": "markdown",
   "metadata": {},
   "source": [
    "<a id=\"section_toc\"></a> \n",
    "\n",
    "### Variable 'price_per_m2'"
   ]
  },
  {
   "cell_type": "markdown",
   "metadata": {},
   "source": [
    "<a id=\"section_toc\"></a> \n",
    "\n",
    "Detección de outliers\n",
    " \n",
    "    Higher side Outliers = Q3 + 1.5 * IQR\n",
    "\n",
    "    Lower side Outliers = Q1 – 1.5 * IQR\n",
    "\n",
    "    IQR = Q3 – Q1"
   ]
  },
  {
   "cell_type": "code",
   "execution_count": 22,
   "metadata": {},
   "outputs": [
    {
     "name": "stdout",
     "output_type": "stream",
     "text": [
      "Q1=  2190.92\n",
      "Q3= 3590.0\n",
      "IQR= 1399.08\n",
      "Higher side Outliers=  5688.62\n",
      "Lower side Outliers=  92.29\n"
     ]
    }
   ],
   "source": [
    "price_per_m2_Q1 = properati_reduced_caba.price_per_m2.quantile(0.25)\n",
    "price_per_m2_Q3 = properati_reduced_caba.price_per_m2.quantile(0.75)\n",
    "price_per_m2_Q3_Q1 =  properati_reduced_caba.price_per_m2.quantile(0.75) - properati_reduced_caba.price_per_m2.quantile(0.25) \n",
    "\n",
    "higher_side_outliers = price_per_m2_Q3 + (1.5 * price_per_m2_Q3_Q1)\n",
    "lower_side_outliers = price_per_m2_Q1 - (1.5 * price_per_m2_Q3_Q1)\n",
    "\n",
    "print (\"Q1= \", str(round(price_per_m2_Q1,2)))\n",
    "print (\"Q3=\", str(round(price_per_m2_Q3,2)))\n",
    "print (\"IQR=\", str(round(price_per_m2_Q3_Q1,2)))\n",
    "print (\"Higher side Outliers= \", str(round(higher_side_outliers,2)))\n",
    "print (\"Lower side Outliers= \", str(round(lower_side_outliers,2)))"
   ]
  },
  {
   "cell_type": "code",
   "execution_count": 23,
   "metadata": {},
   "outputs": [
    {
     "data": {
      "text/plain": [
       "False    29237\n",
       "True      3079\n",
       "Name: price_per_m2, dtype: int64"
      ]
     },
     "execution_count": 23,
     "metadata": {},
     "output_type": "execute_result"
    }
   ],
   "source": [
    "mask_higher_outliers_price_per_m2 = properati_reduced_caba['price_per_m2'] > higher_side_outliers\n",
    "mask_lower_outliers_price_per_m2 = properati_reduced_caba['price_per_m2'] < lower_side_outliers\n",
    "mask_outliers_price_per_m2 = mask_higher_outliers_price_per_m2 | mask_lower_outliers_price_per_m2\n",
    "mask_outliers_price_per_m2.value_counts()"
   ]
  },
  {
   "cell_type": "code",
   "execution_count": 24,
   "metadata": {},
   "outputs": [
    {
     "name": "stdout",
     "output_type": "stream",
     "text": [
      "Porcentaje de Outliers en la variable 'precio_per_m2':  9.53\n"
     ]
    }
   ],
   "source": [
    "print(\"Porcentaje de Outliers en la variable 'precio_per_m2': \", str(round(properati_reduced_caba.loc[mask_outliers_price_per_m2,:].price_per_m2.shape[0]/properati_reduced_caba.price_per_m2.shape[0]*100,2)))"
   ]
  },
  {
   "cell_type": "markdown",
   "metadata": {},
   "source": [
    "<a id=\"section_toc\"></a> \n",
    "\n",
    "Generamos un DataFrame \"limpio\" de outliers en la variable 'price_per_m2'"
   ]
  },
  {
   "cell_type": "code",
   "execution_count": 25,
   "metadata": {},
   "outputs": [
    {
     "data": {
      "text/plain": [
       "True     24245\n",
       "False     8071\n",
       "Name: price_per_m2, dtype: int64"
      ]
     },
     "execution_count": 25,
     "metadata": {},
     "output_type": "execute_result"
    }
   ],
   "source": [
    "#Máscara booleana para not ouliers\n",
    "mask_higher_not_outliers_price_per_m2 = properati_reduced_caba['price_per_m2'] <= higher_side_outliers\n",
    "mask_lower_not_outliers_price_per_m2 = properati_reduced_caba['price_per_m2'] >= lower_side_outliers\n",
    "mask_not_outliers_price_per_m2 = mask_higher_not_outliers_price_per_m2 & mask_lower_not_outliers_price_per_m2 \n",
    "mask_not_outliers_price_per_m2.value_counts()"
   ]
  },
  {
   "cell_type": "code",
   "execution_count": 26,
   "metadata": {},
   "outputs": [
    {
     "data": {
      "text/plain": [
       "(24245, 18)"
      ]
     },
     "execution_count": 26,
     "metadata": {},
     "output_type": "execute_result"
    }
   ],
   "source": [
    "#Generamos un DatFrame sin ouliers en 'price_per_m2'\n",
    "properati_reduce_caba_clean_outliers = properati_reduced_caba.loc[mask_not_outliers_price_per_m2,:]\n",
    "properati_reduce_caba_clean_outliers.shape"
   ]
  },
  {
   "cell_type": "markdown",
   "metadata": {},
   "source": [
    "<a id=\"section_toc\"></a> \n",
    "Debemos homogeneizar la unidad de medida de la variable 'price_per_m2' a USD. Veamos como se distribuye 'currency'."
   ]
  },
  {
   "cell_type": "code",
   "execution_count": 27,
   "metadata": {},
   "outputs": [
    {
     "data": {
      "text/plain": [
       "False    24245\n",
       "Name: currency, dtype: int64"
      ]
     },
     "execution_count": 27,
     "metadata": {},
     "output_type": "execute_result"
    }
   ],
   "source": [
    "#Veamos si 'currency' tiene nulls\n",
    "mask_currency_nulls = properati_reduce_caba_clean_outliers.currency.isnull()\n",
    "mask_currency_nulls.value_counts()"
   ]
  },
  {
   "cell_type": "code",
   "execution_count": 28,
   "metadata": {},
   "outputs": [
    {
     "data": {
      "text/plain": [
       "USD    24213\n",
       "ARS       32\n",
       "Name: currency, dtype: int64"
      ]
     },
     "execution_count": 28,
     "metadata": {},
     "output_type": "execute_result"
    }
   ],
   "source": [
    "properati_reduce_caba_clean_outliers['currency'].value_counts()"
   ]
  },
  {
   "cell_type": "markdown",
   "metadata": {},
   "source": [
    "<a id=\"section_toc\"></a> \n",
    "Eliminamos los 32 registros expresados en ARS."
   ]
  },
  {
   "cell_type": "code",
   "execution_count": 29,
   "metadata": {},
   "outputs": [
    {
     "name": "stdout",
     "output_type": "stream",
     "text": [
      "Tamaño del DataFrame 'properati_reduce_caba_clean_outliers':  (24213, 18)\n",
      "Cantidad de registros expresados en ARS en 'price_per_m2':  0\n"
     ]
    }
   ],
   "source": [
    "properati_reduce_caba_clean_outliers = properati_reduce_caba_clean_outliers.loc[properati_reduce_caba_clean_outliers['currency'] != 'ARS',:]\n",
    "# Controlamos\n",
    "print(\"Tamaño del DataFrame 'properati_reduce_caba_clean_outliers': \", str(properati_reduce_caba_clean_outliers.shape))\n",
    "print(\"Cantidad de registros expresados en ARS en 'price_per_m2': \", str((properati_reduce_caba_clean_outliers['currency'] == 'ARS').sum()))\n"
   ]
  },
  {
   "cell_type": "markdown",
   "metadata": {},
   "source": [
    "<a id=\"section_toc\"></a> \n",
    "\n",
    "### Variable 'floor'"
   ]
  },
  {
   "cell_type": "code",
   "execution_count": 30,
   "metadata": {},
   "outputs": [
    {
     "data": {
      "text/plain": [
       "1.0       528\n",
       "2.0       454\n",
       "3.0       339\n",
       "4.0       261\n",
       "5.0       214\n",
       "         ... \n",
       "1104.0      1\n",
       "63.0        1\n",
       "907.0       1\n",
       "504.0       1\n",
       "25.0        1\n",
       "Name: floor, Length: 76, dtype: int64"
      ]
     },
     "execution_count": 30,
     "metadata": {},
     "output_type": "execute_result"
    }
   ],
   "source": [
    "properati_reduce_caba_clean_outliers.floor.value_counts()"
   ]
  },
  {
   "cell_type": "markdown",
   "metadata": {},
   "source": [
    "<a id=\"section_toc\"></a> \n",
    "\n",
    "Detección de outliers\n",
    " \n",
    "    Higher side Outliers = Q3 + 1.5 * IQR\n",
    "\n",
    "    Lower side Outliers = Q1 – 1.5 * IQR\n",
    "\n",
    "    IQR = Q3 – Q1"
   ]
  },
  {
   "cell_type": "code",
   "execution_count": 31,
   "metadata": {},
   "outputs": [
    {
     "name": "stdout",
     "output_type": "stream",
     "text": [
      "Q1=  2.0\n",
      "Q3= 7.0\n",
      "IQR= 5.0\n",
      "Higher side Outliers=  14.0\n",
      "Lower side Outliers=  1\n"
     ]
    }
   ],
   "source": [
    "floor_Q1 = round(properati_reduce_caba_clean_outliers.floor.quantile(0.25),0)\n",
    "floor_Q3 = round(properati_reduce_caba_clean_outliers.floor.quantile(0.75),0)\n",
    "floor_Q3_Q1 =  round(properati_reduce_caba_clean_outliers.floor.quantile(0.75) - properati_reduce_caba_clean_outliers.floor.quantile(0.25),0) \n",
    "\n",
    "higher_side_outliers_floor = round(floor_Q3 + (1.5 * floor_Q3_Q1),0)\n",
    "lower_side_outliers_floor = 1\n",
    "\n",
    "print (\"Q1= \", str(round(floor_Q1,2)))\n",
    "print (\"Q3=\", str(round(floor_Q3,2)))\n",
    "print (\"IQR=\", str(round(floor_Q3_Q1,2)))\n",
    "print (\"Higher side Outliers= \", str(round(higher_side_outliers_floor,2)))\n",
    "print (\"Lower side Outliers= \", str(round(lower_side_outliers_floor,2)))"
   ]
  },
  {
   "cell_type": "code",
   "execution_count": 32,
   "metadata": {},
   "outputs": [
    {
     "data": {
      "text/plain": [
       "True     21501\n",
       "False     2712\n",
       "Name: floor, dtype: int64"
      ]
     },
     "execution_count": 32,
     "metadata": {},
     "output_type": "execute_result"
    }
   ],
   "source": [
    "#Cantidad de nulls en 'floor'\n",
    "mask_floor_nulls = properati_reduce_caba_clean_outliers.floor.isnull()\n",
    "mask_floor_nulls.value_counts()"
   ]
  },
  {
   "cell_type": "code",
   "execution_count": 33,
   "metadata": {},
   "outputs": [
    {
     "data": {
      "text/plain": [
       "False    21501\n",
       "True      2712\n",
       "Name: floor, dtype: int64"
      ]
     },
     "execution_count": 33,
     "metadata": {},
     "output_type": "execute_result"
    }
   ],
   "source": [
    "#Control: cantidad de not nulls en 'floor'\n",
    "mask_floor_not_nulls = properati_reduce_caba_clean_outliers.floor.notnull()\n",
    "mask_floor_not_nulls.value_counts()"
   ]
  },
  {
   "cell_type": "code",
   "execution_count": 34,
   "metadata": {},
   "outputs": [
    {
     "name": "stdout",
     "output_type": "stream",
     "text": [
      "(24213, 18)\n",
      "(2712, 18)\n"
     ]
    }
   ],
   "source": [
    "#Generamos un DataFrame sin nulls en 'floor' (para que funcionen las máscaras de outliers)\n",
    "properati_reduce_caba_clean_outliers_not_nulls_floor = properati_reduce_caba_clean_outliers.loc[mask_floor_not_nulls,:]\n",
    "print(properati_reduce_caba_clean_outliers.shape)\n",
    "print(properati_reduce_caba_clean_outliers_not_nulls_floor.shape)"
   ]
  },
  {
   "cell_type": "code",
   "execution_count": 35,
   "metadata": {},
   "outputs": [
    {
     "data": {
      "text/plain": [
       "False    2586\n",
       "True      126\n",
       "Name: floor, dtype: int64"
      ]
     },
     "execution_count": 35,
     "metadata": {},
     "output_type": "execute_result"
    }
   ],
   "source": [
    "#Máscaras para outliers\n",
    "mask_higher_outliers_floor = properati_reduce_caba_clean_outliers_not_nulls_floor['floor'] > higher_side_outliers_floor\n",
    "mask_lower_outliers_floor = properati_reduce_caba_clean_outliers_not_nulls_floor['floor'] < lower_side_outliers_floor\n",
    "mask_outliers_floor = mask_higher_outliers_floor | mask_lower_outliers_floor \n",
    "mask_outliers_floor.value_counts()"
   ]
  },
  {
   "cell_type": "code",
   "execution_count": 36,
   "metadata": {},
   "outputs": [
    {
     "name": "stdout",
     "output_type": "stream",
     "text": [
      "Porcentaje de Outliers en la variable 'floor'(%):  4.65\n"
     ]
    }
   ],
   "source": [
    "print(\"Porcentaje de Outliers en la variable 'floor'(%): \", str(round(properati_reduce_caba_clean_outliers_not_nulls_floor.loc[mask_outliers_floor,:].floor.shape[0]/properati_reduce_caba_clean_outliers_not_nulls_floor.floor.shape[0]*100,2)))"
   ]
  },
  {
   "cell_type": "code",
   "execution_count": null,
   "metadata": {},
   "outputs": [],
   "source": []
  },
  {
   "cell_type": "markdown",
   "metadata": {},
   "source": [
    "<a id=\"section_toc\"></a> \n",
    "\n",
    "### Variable \"rooms\""
   ]
  },
  {
   "cell_type": "code",
   "execution_count": 37,
   "metadata": {},
   "outputs": [
    {
     "data": {
      "text/plain": [
       "3.0     3122\n",
       "2.0     2946\n",
       "1.0     2939\n",
       "4.0     2244\n",
       "5.0      815\n",
       "6.0      264\n",
       "7.0      132\n",
       "8.0       46\n",
       "9.0       20\n",
       "10.0      18\n",
       "12.0      10\n",
       "11.0       7\n",
       "17.0       3\n",
       "22.0       1\n",
       "15.0       1\n",
       "14.0       1\n",
       "13.0       1\n",
       "Name: rooms, dtype: int64"
      ]
     },
     "execution_count": 37,
     "metadata": {},
     "output_type": "execute_result"
    }
   ],
   "source": [
    "properati_reduce_caba_clean_outliers.rooms.value_counts()"
   ]
  },
  {
   "cell_type": "code",
   "execution_count": 38,
   "metadata": {},
   "outputs": [
    {
     "name": "stdout",
     "output_type": "stream",
     "text": [
      "Q1=  2.0\n",
      "Q3= 4.0\n",
      "IQR= 2.0\n",
      "Higher side Outliers=  7.0\n",
      "Lower side Outliers=  1\n"
     ]
    }
   ],
   "source": [
    "rooms_Q1 = round(properati_reduce_caba_clean_outliers.rooms.quantile(0.25),0)\n",
    "rooms_Q3 = round(properati_reduce_caba_clean_outliers.rooms.quantile(0.75),0)\n",
    "rooms_Q3_Q1 =  round(properati_reduce_caba_clean_outliers.rooms.quantile(0.75) - properati_reduce_caba_clean_outliers.rooms.quantile(0.25),0) \n",
    "\n",
    "higher_side_outliers_rooms = round(rooms_Q3 + (1.5 * rooms_Q3_Q1),0)\n",
    "lower_side_outliers_rooms = 1\n",
    "\n",
    "print (\"Q1= \", str(round(rooms_Q1,2)))\n",
    "print (\"Q3=\", str(round(rooms_Q3,2)))\n",
    "print (\"IQR=\", str(round(rooms_Q3_Q1,2)))\n",
    "print (\"Higher side Outliers= \", str(round(higher_side_outliers_rooms,2)))\n",
    "print (\"Lower side Outliers= \", str(round(lower_side_outliers_rooms,2)))"
   ]
  },
  {
   "cell_type": "code",
   "execution_count": 39,
   "metadata": {},
   "outputs": [
    {
     "data": {
      "text/plain": [
       "False    12570\n",
       "True     11643\n",
       "Name: rooms, dtype: int64"
      ]
     },
     "execution_count": 39,
     "metadata": {},
     "output_type": "execute_result"
    }
   ],
   "source": [
    "#Cantidad de nulls en 'rooms'\n",
    "mask_rooms_nulls = properati_reduce_caba_clean_outliers.rooms.isnull()\n",
    "mask_rooms_nulls.value_counts()"
   ]
  },
  {
   "cell_type": "code",
   "execution_count": 40,
   "metadata": {},
   "outputs": [
    {
     "data": {
      "text/plain": [
       "True     12570\n",
       "False    11643\n",
       "Name: rooms, dtype: int64"
      ]
     },
     "execution_count": 40,
     "metadata": {},
     "output_type": "execute_result"
    }
   ],
   "source": [
    "#Control: cantidad de not nulls en 'rooms'\n",
    "mask_rooms_not_nulls = properati_reduce_caba_clean_outliers.rooms.notnull()\n",
    "mask_rooms_not_nulls.value_counts()"
   ]
  },
  {
   "cell_type": "code",
   "execution_count": 41,
   "metadata": {},
   "outputs": [
    {
     "name": "stdout",
     "output_type": "stream",
     "text": [
      "(24213, 18)\n",
      "(12570, 18)\n"
     ]
    }
   ],
   "source": [
    "#Generamos un DataFrame sin nulls en 'rooms' (para que funcionen las máscaras de outliers)\n",
    "properati_reduce_caba_clean_outliers_not_nulls_rooms = properati_reduce_caba_clean_outliers.loc[mask_rooms_not_nulls,:]\n",
    "print(properati_reduce_caba_clean_outliers.shape)\n",
    "print(properati_reduce_caba_clean_outliers_not_nulls_rooms.shape)"
   ]
  },
  {
   "cell_type": "code",
   "execution_count": 42,
   "metadata": {},
   "outputs": [
    {
     "data": {
      "text/plain": [
       "False    12125\n",
       "True       445\n",
       "Name: floor, dtype: int64"
      ]
     },
     "execution_count": 42,
     "metadata": {},
     "output_type": "execute_result"
    }
   ],
   "source": [
    "#Máscaras para outliers\n",
    "mask_higher_outliers_rooms = properati_reduce_caba_clean_outliers_not_nulls_rooms['floor'] > higher_side_outliers_rooms\n",
    "mask_lower_outliers_rooms = properati_reduce_caba_clean_outliers_not_nulls_rooms['floor'] < lower_side_outliers_rooms\n",
    "mask_outliers_rooms = mask_higher_outliers_rooms | mask_lower_outliers_rooms \n",
    "mask_outliers_rooms.value_counts()"
   ]
  },
  {
   "cell_type": "code",
   "execution_count": 43,
   "metadata": {},
   "outputs": [
    {
     "name": "stdout",
     "output_type": "stream",
     "text": [
      "Porcentaje de Outliers en la variable 'rooms'(%):  3.54\n"
     ]
    }
   ],
   "source": [
    "print(\"Porcentaje de Outliers en la variable 'rooms'(%): \", str(round(properati_reduce_caba_clean_outliers_not_nulls_rooms.loc[mask_outliers_rooms,:].rooms.shape[0]/properati_reduce_caba_clean_outliers_not_nulls_rooms.rooms.shape[0]*100,2)))"
   ]
  },
  {
   "cell_type": "code",
   "execution_count": null,
   "metadata": {},
   "outputs": [],
   "source": []
  },
  {
   "cell_type": "code",
   "execution_count": null,
   "metadata": {},
   "outputs": [],
   "source": []
  }
 ],
 "metadata": {
  "kernelspec": {
   "display_name": "Python 3",
   "language": "python",
   "name": "python3"
  },
  "language_info": {
   "codemirror_mode": {
    "name": "ipython",
    "version": 3
   },
   "file_extension": ".py",
   "mimetype": "text/x-python",
   "name": "python",
   "nbconvert_exporter": "python",
   "pygments_lexer": "ipython3",
   "version": "3.7.7"
  }
 },
 "nbformat": 4,
 "nbformat_minor": 4
}
